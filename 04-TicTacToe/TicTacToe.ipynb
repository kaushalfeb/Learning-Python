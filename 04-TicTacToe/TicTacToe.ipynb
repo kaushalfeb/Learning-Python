{
 "cells": [
  {
   "cell_type": "markdown",
   "metadata": {},
   "source": [
    "# TicTacToe"
   ]
  },
  {
   "cell_type": "markdown",
   "metadata": {},
   "source": [
    "Steps involved:<br>\n",
    "\n",
    "    Displaying empty board.\n",
    "    Asking Player1's choice of symbol.\n",
    "   \n",
    "    Player 1's location\n",
    "    checking didwin?\n",
    "    Updating the board.\n",
    "    \n",
    "    Player 2's location.\n",
    "    checking didwin?\n",
    "    Updating the board.\n",
    "    .\n",
    "    .\n",
    "    .\n",
    "    (After every chance)\n",
    "    check straight line.\n",
    "    If true.\n",
    "        exit loop.\n",
    "        return winning players name.\n",
    "    Ask for new match."
   ]
  },
  {
   "cell_type": "code",
   "execution_count": 15,
   "metadata": {},
   "outputs": [],
   "source": [
    "board = [1,2,3,4,5,6,7,8,9]\n",
    "def display_board():\n",
    "    \n",
    "    print(f'{board[6]} | {board[7]} | {board[8]}')\n",
    "    print('----------')\n",
    "    print(f'{board[3]} | {board[4]} | {board[5]}')\n",
    "    print('----------')\n",
    "    print(f'{board[0]} | {board[1]} | {board[2]}')    "
   ]
  },
  {
   "cell_type": "code",
   "execution_count": 16,
   "metadata": {},
   "outputs": [
    {
     "name": "stdout",
     "output_type": "stream",
     "text": [
      "7 | 8 | 9\n",
      "----------\n",
      "4 | 5 | 6\n",
      "----------\n",
      "1 | 2 | 3\n"
     ]
    }
   ],
   "source": [
    "display_board()"
   ]
  },
  {
   "cell_type": "code",
   "execution_count": 30,
   "metadata": {},
   "outputs": [],
   "source": [
    "sign_choice = ''\n",
    "def choice():\n",
    "    \n",
    "    sign_choice = input('Player 1 choose your sign: X or O?\\n')\n",
    "    print(f\"Player 1 chooses {sign_choice}\")\n",
    "    \n",
    "    if sign_choice != 'X' and sign_choice !='O':\n",
    "        print('Invalid input')\n",
    "    return sign_choice"
   ]
  },
  {
   "cell_type": "code",
   "execution_count": 25,
   "metadata": {},
   "outputs": [
    {
     "name": "stdout",
     "output_type": "stream",
     "text": [
      "Player 1 choose your sign: X or O?\n",
      "X\n",
      "Player 1 chooses X\n"
     ]
    }
   ],
   "source": [
    "choice()"
   ]
  },
  {
   "cell_type": "code",
   "execution_count": 40,
   "metadata": {},
   "outputs": [],
   "source": [
    "def set_loc(player):\n",
    "    loc = int(input(f'Player {player} choose location to mark\\n'))\n",
    "    if 0<loc<10:\n",
    "        if board[loc-1] != 'X' and board[loc-1] != 'O': \n",
    "            board[loc-1] =  choice()\n",
    "            print(f\"Your location is {loc}\\n\")\n",
    "            display_board()\n",
    "        else:\n",
    "            print('Location already used')\n",
    "    else:\n",
    "        print('Wrong location')"
   ]
  },
  {
   "cell_type": "code",
   "execution_count": 42,
   "metadata": {},
   "outputs": [
    {
     "name": "stdout",
     "output_type": "stream",
     "text": [
      "Player X choose location to mark\n",
      "9\n",
      "Player 1 choose your sign: X or O?\n",
      "O\n",
      "Player 1 chooses O\n",
      "Your location is 9\n",
      "\n",
      "7 | 8 | O\n",
      "----------\n",
      "O | X | X\n",
      "----------\n",
      "1 | 2 | 3\n"
     ]
    }
   ],
   "source": [
    "set_loc('X')"
   ]
  },
  {
   "cell_type": "code",
   "execution_count": null,
   "metadata": {
    "collapsed": true
   },
   "outputs": [],
   "source": [
    "def did_win():\n",
    "    if "
   ]
  }
 ],
 "metadata": {
  "kernelspec": {
   "display_name": "Python 3",
   "language": "python",
   "name": "python3"
  },
  "language_info": {
   "codemirror_mode": {
    "name": "ipython",
    "version": 3
   },
   "file_extension": ".py",
   "mimetype": "text/x-python",
   "name": "python",
   "nbconvert_exporter": "python",
   "pygments_lexer": "ipython3",
   "version": "3.6.1"
  }
 },
 "nbformat": 4,
 "nbformat_minor": 2
}
