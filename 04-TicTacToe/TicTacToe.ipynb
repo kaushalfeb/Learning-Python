{
 "cells": [
  {
   "cell_type": "markdown",
   "metadata": {},
   "source": [
    "# TicTacToe"
   ]
  },
  {
   "cell_type": "markdown",
   "metadata": {},
   "source": [
    "Steps involved:<br>\n",
    "\n",
    "    Displaying empty board.\n",
    "    Asking Player1's choice of symbol.\n",
    "   \n",
    "    Player 1's location\n",
    "    checking didwin?\n",
    "    Updating the board.\n",
    "    \n",
    "    Player 2's location.\n",
    "    checking didwin?\n",
    "    Updating the board.\n",
    "    .\n",
    "    .\n",
    "    .\n",
    "    (After every chance)\n",
    "    check straight line.\n",
    "    If true.\n",
    "        exit loop.\n",
    "        return winning players name.\n",
    "    Ask for new match."
   ]
  },
  {
   "cell_type": "code",
   "execution_count": 1,
   "metadata": {
    "collapsed": true
   },
   "outputs": [],
   "source": [
    "def display_board():\n",
    "    print('_|_|_')\n",
    "    print('_|_|_')\n",
    "    print(' | | ')\n",
    "    "
   ]
  },
  {
   "cell_type": "code",
   "execution_count": 2,
   "metadata": {},
   "outputs": [
    {
     "name": "stdout",
     "output_type": "stream",
     "text": [
      "_|_|_\n",
      "_|_|_\n",
      " | | \n"
     ]
    }
   ],
   "source": [
    "display_board()"
   ]
  },
  {
   "cell_type": "code",
   "execution_count": 9,
   "metadata": {
    "collapsed": true
   },
   "outputs": [],
   "source": [
    "def choice():\n",
    "    \n",
    "    sign_choice = input('Player 1 choose your sign: X or O?')\n",
    "    print(sign_choice)\n",
    "    if sign_choice != 'X' or sign_choice !='O':\n",
    "        print('Invalid input')"
   ]
  },
  {
   "cell_type": "code",
   "execution_count": 12,
   "metadata": {},
   "outputs": [
    {
     "name": "stdout",
     "output_type": "stream",
     "text": [
      "Player 1 choose your sign: X or O?'O'\n",
      "'O'\n",
      "Invalid input\n"
     ]
    }
   ],
   "source": [
    "choice()"
   ]
  },
  {
   "cell_type": "code",
   "execution_count": 16,
   "metadata": {
    "collapsed": true
   },
   "outputs": [],
   "source": [
    "def ask_loc(no):\n",
    "    loc = int(input(f'Player {no} choose location to mark'))\n",
    "    if 0<loc<10:\n",
    "        print(loc)\n",
    "    else:\n",
    "        print('Wrong location')"
   ]
  },
  {
   "cell_type": "code",
   "execution_count": 19,
   "metadata": {},
   "outputs": [
    {
     "name": "stdout",
     "output_type": "stream",
     "text": [
      "Player 2 choose location to mark10\n",
      "Wrong location\n"
     ]
    }
   ],
   "source": [
    "ask_loc(2)"
   ]
  },
  {
   "cell_type": "code",
   "execution_count": null,
   "metadata": {
    "collapsed": true
   },
   "outputs": [],
   "source": []
  }
 ],
 "metadata": {
  "kernelspec": {
   "display_name": "Python 3",
   "language": "python",
   "name": "python3"
  },
  "language_info": {
   "codemirror_mode": {
    "name": "ipython",
    "version": 3
   },
   "file_extension": ".py",
   "mimetype": "text/x-python",
   "name": "python",
   "nbconvert_exporter": "python",
   "pygments_lexer": "ipython3",
   "version": "3.6.1"
  }
 },
 "nbformat": 4,
 "nbformat_minor": 2
}
