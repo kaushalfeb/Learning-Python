{
 "cells": [
  {
   "cell_type": "markdown",
   "metadata": {},
   "source": [
    "# TicTacToe"
   ]
  },
  {
   "cell_type": "markdown",
   "metadata": {},
   "source": [
    "Steps involved:<br>\n",
    "\n",
    "    Displaying empty board.\n",
    "    Asking Player1's choice of symbol.\n",
    "   \n",
    "    Player 1's location\n",
    "    checking didwin?\n",
    "    Updating the board.\n",
    "    \n",
    "    Player 2's location.\n",
    "    checking didwin?\n",
    "    Updating the board.\n",
    "    .\n",
    "    .\n",
    "    .\n",
    "    (After every chance)\n",
    "    check straight line.\n",
    "    If true.\n",
    "        exit loop.\n",
    "        return winning players name.\n",
    "    Ask for new match.\n",
    "    \n",
    "### Warning\n",
    " #### Run all the functions before calling game() function\n",
    " #### Run but Do not call the set_loc() function before game() function"
   ]
  },
  {
   "cell_type": "code",
   "execution_count": 1,
   "metadata": {
    "collapsed": true
   },
   "outputs": [],
   "source": [
    "board = [1,2,3,4,5,6,7,8,9]\n",
    "def display_board():\n",
    "    \n",
    "    print(f'{board[6]} | {board[7]} | {board[8]}')\n",
    "    print('----------')\n",
    "    print(f'{board[3]} | {board[4]} | {board[5]}')\n",
    "    print('----------')\n",
    "    print(f'{board[0]} | {board[1]} | {board[2]}')    "
   ]
  },
  {
   "cell_type": "code",
   "execution_count": 2,
   "metadata": {},
   "outputs": [
    {
     "name": "stdout",
     "output_type": "stream",
     "text": [
      "7 | 8 | 9\n",
      "----------\n",
      "4 | 5 | 6\n",
      "----------\n",
      "1 | 2 | 3\n"
     ]
    }
   ],
   "source": [
    "display_board()"
   ]
  },
  {
   "cell_type": "code",
   "execution_count": 3,
   "metadata": {
    "collapsed": true
   },
   "outputs": [],
   "source": [
    "def choice():\n",
    "    \n",
    "    sign_choice = input('Player 1 choose your sign: X or O?\\n')\n",
    "    print(f\"Player 1 chooses {sign_choice}\")\n",
    "    \n",
    "    if sign_choice != 'X' and sign_choice !='O':\n",
    "        print('Invalid input')\n",
    "    return sign_choice"
   ]
  },
  {
   "cell_type": "code",
   "execution_count": 5,
   "metadata": {
    "collapsed": true
   },
   "outputs": [],
   "source": [
    "def set_loc(player):\n",
    "    loc = int(input(f'Player \" {player} \" choose location to mark\\n'))\n",
    "    if 0<loc<10:\n",
    "        if board[loc-1] != 'X' and board[loc-1] != 'O': \n",
    "            board[loc-1] =  player\n",
    "            print(f\"Your location is {loc}\\n\")\n",
    "            display_board()\n",
    "        else:\n",
    "            print('Location already used')\n",
    "    else:\n",
    "        print('Wrong location')"
   ]
  },
  {
   "cell_type": "code",
   "execution_count": 7,
   "metadata": {
    "collapsed": true
   },
   "outputs": [],
   "source": [
    "def did_win(p):\n",
    "    if board[0] == p and board[1] == p and board[2]==p:\n",
    "        print(f\"{p} Won\")\n",
    "        return True\n",
    "    elif board[3] == p and board[4] == p and board[5]==p:\n",
    "        print(f\"{p} Won\")\n",
    "        return True\n",
    "    elif board[6] == p and board[7] == p and board[8]==p:\n",
    "        print(f\"{p} Won\")\n",
    "        return True\n",
    "    elif board[0] == p and board[3] == p and board[6]==p:\n",
    "        print(f\"{p} Won\")\n",
    "        return True\n",
    "    elif board[1] == p and board[4] == p and board[7]==p:\n",
    "        print(f\"{p} Won\")\n",
    "        return True\n",
    "    elif board[2] == p and board[5] == p and board[8]==p:\n",
    "        print(f\"{p} Won\")\n",
    "        return True\n",
    "    elif board[0] == p and board[5] == p and board[8]==p:\n",
    "        print(f\"{p} Won\")\n",
    "        return True\n",
    "    if board[2] == p and board[5] == p and board[6]==p:\n",
    "        print(f\"\\n\\t{p} Won\\n\")\n",
    "        return True\n",
    "    else:\n",
    "        return False"
   ]
  },
  {
   "cell_type": "code",
   "execution_count": 8,
   "metadata": {},
   "outputs": [],
   "source": [
    "def game():\n",
    "    global player\n",
    "    res = True\n",
    "    while(res):\n",
    "        res = int(input('Do you want to play Tic Tac Toe?\\n1. True.\\n2. False\\n'))\n",
    "        if res == 1:\n",
    "            p1 = choice()\n",
    "            if p1 == 'X':\n",
    "                p2 = 'O'\n",
    "            else:\n",
    "                p2 = 'X'\n",
    "            display_board()\n",
    "            player = p1\n",
    "            # Intially runs for player 1\n",
    "            #set_loc(player)\n",
    "            \n",
    "            while did_win(p1) == False and did_win(p2)==False:\n",
    "                set_loc(player)\n",
    "                if player == p1:\n",
    "                    player = p2\n",
    "                else:\n",
    "                    player = p1\n",
    "                    \n",
    "        elif res==2:\n",
    "            print('Closed successfully')\n",
    "            break"
   ]
  },
  {
   "cell_type": "code",
   "execution_count": 9,
   "metadata": {},
   "outputs": [
    {
     "name": "stdout",
     "output_type": "stream",
     "text": [
      "Do you want to play Tic Tac Toe?\n",
      "1. True.\n",
      "2. False\n",
      "2\n",
      "Closed successfully\n"
     ]
    }
   ],
   "source": [
    "game()"
   ]
  }
 ],
 "metadata": {
  "kernelspec": {
   "display_name": "Python 3",
   "language": "python",
   "name": "python3"
  },
  "language_info": {
   "codemirror_mode": {
    "name": "ipython",
    "version": 3
   },
   "file_extension": ".py",
   "mimetype": "text/x-python",
   "name": "python",
   "nbconvert_exporter": "python",
   "pygments_lexer": "ipython3",
   "version": "3.7.4"
  }
 },
 "nbformat": 4,
 "nbformat_minor": 2
}
