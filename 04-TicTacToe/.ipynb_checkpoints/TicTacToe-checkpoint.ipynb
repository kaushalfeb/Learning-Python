{
 "cells": [
  {
   "cell_type": "markdown",
   "metadata": {},
   "source": [
    "# TicTacToe"
   ]
  },
  {
   "cell_type": "markdown",
   "metadata": {},
   "source": [
    "Steps involved:<br>\n",
    "\n",
    "    Displaying empty board.\n",
    "    Asking Player1's choice of symbol.\n",
    "   \n",
    "    Player 1's location\n",
    "    Updating the board.\n",
    "    Player 2's location.\n",
    "    Updating the board.\n",
    "    .\n",
    "    .\n",
    "    .\n",
    "    (After every chance)\n",
    "    check straight line.\n",
    "    If true.\n",
    "        exit loop.\n",
    "        return winning players name.\n",
    "    Ask for new match."
   ]
  },
  {
   "cell_type": "code",
   "execution_count": null,
   "metadata": {
    "collapsed": true
   },
   "outputs": [],
   "source": []
  }
 ],
 "metadata": {
  "kernelspec": {
   "display_name": "Python 3",
   "language": "python",
   "name": "python3"
  },
  "language_info": {
   "codemirror_mode": {
    "name": "ipython",
    "version": 3
   },
   "file_extension": ".py",
   "mimetype": "text/x-python",
   "name": "python",
   "nbconvert_exporter": "python",
   "pygments_lexer": "ipython3",
   "version": "3.6.1"
  }
 },
 "nbformat": 4,
 "nbformat_minor": 2
}
