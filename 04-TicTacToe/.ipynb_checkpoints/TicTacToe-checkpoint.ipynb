{
 "cells": [
  {
   "cell_type": "markdown",
   "metadata": {},
   "source": [
    "# TicTacToe"
   ]
  },
  {
   "cell_type": "markdown",
   "metadata": {},
   "source": [
    "Steps involved:<br>\n",
    "\n",
    "    Displaying empty board.\n",
    "    Asking Player1's choice of symbol.\n",
    "   \n",
    "    Player 1's location\n",
    "    checking didwin?\n",
    "    Updating the board.\n",
    "    \n",
    "    Player 2's location.\n",
    "    checking didwin?\n",
    "    Updating the board.\n",
    "    .\n",
    "    .\n",
    "    .\n",
    "    (After every chance)\n",
    "    check straight line.\n",
    "    If true.\n",
    "        exit loop.\n",
    "        return winning players name.\n",
    "    Ask for new match."
   ]
  },
  {
   "cell_type": "code",
   "execution_count": 11,
   "metadata": {},
   "outputs": [],
   "source": [
    "board = [1,2,3,4,5,6,7,8,9]\n",
    "def display_board():\n",
    "    \n",
    "    print(f'{board[6]} | {board[7]} | {board[8]}')\n",
    "    print('----------')\n",
    "    print(f'{board[3]} | {board[4]} | {board[5]}')\n",
    "    print('----------')\n",
    "    print(f'{board[0]} | {board[1]} | {board[2]}')    "
   ]
  },
  {
   "cell_type": "code",
   "execution_count": 2,
   "metadata": {},
   "outputs": [
    {
     "name": "stdout",
     "output_type": "stream",
     "text": [
      "7 | 8 | 9\n",
      "----------\n",
      "4 | 5 | 6\n",
      "----------\n",
      "1 | 2 | 3\n"
     ]
    }
   ],
   "source": [
    "display_board()"
   ]
  },
  {
   "cell_type": "code",
   "execution_count": 3,
   "metadata": {},
   "outputs": [],
   "source": [
    "\n",
    "def choice():\n",
    "    \n",
    "    sign_choice = input('Player 1 choose your sign: X or O?\\n')\n",
    "    print(f\"Player 1 chooses {sign_choice}\")\n",
    "    \n",
    "    if sign_choice != 'X' and sign_choice !='O':\n",
    "        print('Invalid input')\n",
    "    return sign_choice"
   ]
  },
  {
   "cell_type": "code",
   "execution_count": 4,
   "metadata": {},
   "outputs": [
    {
     "name": "stdout",
     "output_type": "stream",
     "text": [
      "Player 1 choose your sign: X or O?\n",
      "X\n",
      "Player 1 chooses X\n"
     ]
    },
    {
     "data": {
      "text/plain": [
       "'X'"
      ]
     },
     "execution_count": 4,
     "metadata": {},
     "output_type": "execute_result"
    }
   ],
   "source": [
    "choice()"
   ]
  },
  {
   "cell_type": "code",
   "execution_count": 5,
   "metadata": {},
   "outputs": [],
   "source": [
    "def set_loc(player):\n",
    "    loc = int(input(f'Player \" {player} \" choose location to mark\\n'))\n",
    "    if 0<loc<10:\n",
    "        if board[loc-1] != 'X' and board[loc-1] != 'O': \n",
    "            board[loc-1] =  player\n",
    "            print(f\"Your location is {loc}\\n\")\n",
    "            display_board()\n",
    "        else:\n",
    "            print('Location already used')\n",
    "    else:\n",
    "        print('Wrong location')"
   ]
  },
  {
   "cell_type": "code",
   "execution_count": 6,
   "metadata": {},
   "outputs": [
    {
     "name": "stdout",
     "output_type": "stream",
     "text": [
      "Player \" X \" choose location to mark\n",
      "5\n",
      "Your location is 5\n",
      "\n",
      "7 | 8 | 9\n",
      "----------\n",
      "4 | X | 6\n",
      "----------\n",
      "1 | 2 | 3\n"
     ]
    }
   ],
   "source": [
    "set_loc('X')"
   ]
  },
  {
   "cell_type": "code",
   "execution_count": 12,
   "metadata": {},
   "outputs": [],
   "source": [
    "def game():\n",
    "    res = True\n",
    "    while(res):\n",
    "        res = int(input('Do you want to play Tic Tac Toe?\\n1. True.\\n2. False\\n'))\n",
    "        if res == 1:\n",
    "            p1 = choice()\n",
    "            display_board()\n",
    "            while(did_win(p1)):\n",
    "                set_loc(p1)\n",
    "        elif res==2:\n",
    "            print('Falsed')\n",
    "            break\n",
    "                "
   ]
  },
  {
   "cell_type": "code",
   "execution_count": 15,
   "metadata": {
    "scrolled": true
   },
   "outputs": [
    {
     "name": "stdout",
     "output_type": "stream",
     "text": [
      "Do you want to play Tic Tac Toe?\n",
      "1. True.\n",
      "2. False\n",
      "1\n",
      "Player 1 choose your sign: X or O?\n",
      "X\n",
      "Player 1 chooses X\n",
      "7 | 8 | 9\n",
      "----------\n",
      "4 | 5 | 6\n",
      "----------\n",
      "1 | 2 | 3\n",
      "Player \" X \" choose location to mark\n",
      "4\n",
      "Your location is 4\n",
      "\n",
      "7 | 8 | 9\n",
      "----------\n",
      "X | 5 | 6\n",
      "----------\n",
      "1 | 2 | 3\n",
      "Player \" X \" choose location to mark\n",
      "1\n",
      "Your location is 1\n",
      "\n",
      "7 | 8 | 9\n",
      "----------\n",
      "X | 5 | 6\n",
      "----------\n",
      "X | 2 | 3\n",
      "Player \" X \" choose location to mark\n",
      "2\n",
      "Your location is 2\n",
      "\n",
      "7 | 8 | 9\n",
      "----------\n",
      "X | 5 | 6\n",
      "----------\n",
      "X | X | 3\n",
      "Player \" X \" choose location to mark\n",
      "3\n",
      "Your location is 3\n",
      "\n",
      "7 | 8 | 9\n",
      "----------\n",
      "X | 5 | 6\n",
      "----------\n",
      "X | X | X\n",
      "X Won\n",
      "Do you want to play Tic Tac Toe?\n",
      "1. True.\n",
      "2. False\n",
      "2\n",
      "Falsed\n"
     ]
    }
   ],
   "source": [
    "game()"
   ]
  },
  {
   "cell_type": "code",
   "execution_count": 14,
   "metadata": {
    "collapsed": true
   },
   "outputs": [],
   "source": [
    "def did_win(p):\n",
    "    if board[0] == p and board[1] == p and board[2]==p:\n",
    "        print(f\"{p} Won\")\n",
    "        return False\n",
    "    else:\n",
    "        return True"
   ]
  },
  {
   "cell_type": "code",
   "execution_count": null,
   "metadata": {
    "collapsed": true
   },
   "outputs": [],
   "source": []
  }
 ],
 "metadata": {
  "kernelspec": {
   "display_name": "Python 3",
   "language": "python",
   "name": "python3"
  },
  "language_info": {
   "codemirror_mode": {
    "name": "ipython",
    "version": 3
   },
   "file_extension": ".py",
   "mimetype": "text/x-python",
   "name": "python",
   "nbconvert_exporter": "python",
   "pygments_lexer": "ipython3",
   "version": "3.6.1"
  }
 },
 "nbformat": 4,
 "nbformat_minor": 2
}
