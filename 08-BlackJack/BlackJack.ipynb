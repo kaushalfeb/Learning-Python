{
 "cells": [
  {
   "cell_type": "code",
   "execution_count": 157,
   "metadata": {},
   "outputs": [],
   "source": [
    "import random\n",
    "\n",
    "class Deck():\n",
    "    def __init__(self):\n",
    "        self.cards = {\n",
    "            'King of Club':10,'Queen of Club':10,'Jack of Club':10,'Ace of Club':10,'2 of Club':2,'3 of Club':3,'4 of Club':4,'5 of Club':5,'6 of Club':6,'7 of Club':7,'8 of Club':8,'9 of Club':9,'10 of Club':10,\n",
    "            'King of Spade':10,'Queen of Spade':10,'Jack of Spade':10,'Ace of Spade':10,'2 of Spade':2,'3 of Spade':3,'4 of Spade':4,'5 of Spade':5,'6 of Spade':6,'7 of Spade':7,'8 of Spade':8,'9 of Spade':9,'10 of Spade':10,\n",
    "            'King of Diamond':10,'Queen of Diamond':10,'Jack of Diamond':10,'Ace of Diamond':10,'2 of Diamond':2,'3 of Diamond':3,'4 of Diamond':4,'5 of Diamond':5,'6 of Diamond':6,'7 of Diamond':7,'8 of Diamond':8,'9 of Diamond':9,'10 of Diamond':10,\n",
    "            'King of Heart':10,'Queen of Heart':10,'Jack of Heart':10,'Ace of Heart':10,'2 of Heart':2,'3 of Heart':3,'4 of Heart':4,'5 of Heart':5,'6 of Heart':6,'7 of Heart':7,'8 of Heart':8,'9 of Heart':9,'10 of Heart':10\n",
    "                     }\n",
    "        \n",
    "    def get_card(self):\n",
    "        name_of_cards = list(self.cards.keys()) \n",
    "        opted_card = random.choice(name_of_cards)\n",
    "        val = self.cards[opted_card] # store the opted card into a variable\n",
    "        self.cards.pop(opted_card) # Delete the card from deck to maintain accuracy in gameplay\n",
    "        \n",
    "        return opted_card,val"
   ]
  },
  {
   "cell_type": "code",
   "execution_count": 267,
   "metadata": {},
   "outputs": [],
   "source": [
    "class Player(Deck):\n",
    "    bankroll = 100\n",
    "    d = Deck()\n",
    "    pcards = {}\n",
    "    \n",
    "    def __init__(self):\n",
    "       \n",
    "        #Pull two cards from deck and store in Player's collection \n",
    "        \n",
    "        card_1 = self.d.get_card()\n",
    "        card_2 = self.d.get_card()\n",
    "        \n",
    "        self.pcards[card_1[0]] = card_1[1]\n",
    "        self.pcards[card_2[0]] = card_2[1]\n",
    "       \n",
    "    def hit(self):\n",
    "    \n",
    "        #Pull another card from deck and put in pcards\n",
    "    \n",
    "        card_3 = self.d.get_card()\n",
    "        self.pcards[card_3[0]] = card_3[1]\n",
    "        print(card_3[0])\n",
    "        \n",
    "    def stay(self):\n",
    "        pass #do nothing\n",
    "    \n",
    "    def show_balance(self):\n",
    "        print(f\"You have ${self.bankroll} in your bankroll\")\n",
    "    \n",
    "    def show_cards(self):\n",
    "        for key in self.pcards.keys():\n",
    "            print(key)\n",
    "    def points(self):\n",
    "        p_total =0\n",
    "        for val in self.pcards.values():\n",
    "            p_total = p_total + val\n",
    "        print(p_total)"
   ]
  },
  {
   "cell_type": "code",
   "execution_count": 268,
   "metadata": {},
   "outputs": [],
   "source": [
    "class Dealer(Deck):\n",
    "    d = Deck()\n",
    "    d_cards = {}\n",
    "    \n",
    "    def __init__(self):\n",
    "       \n",
    "        #Pull two cards from deck and store in Dealer's collection \n",
    "        \n",
    "        card_1 = self.d.get_card()\n",
    "        card_2 = self.d.get_card()\n",
    "        \n",
    "        self.d_cards[card_1[0]] = card_1[1]\n",
    "        self.d_cards[card_2[0]] = card_2[1]\n",
    "    \n",
    "    def hit(self):\n",
    "    \n",
    "        #Pull another card from deck and put in pcards\n",
    "    \n",
    "        card_3 = self.d.get_card()\n",
    "        self.pcards[card_3[0]] = card_3[1]\n",
    "        print(card_3[0])\n",
    "    def show_cards(self):\n",
    "        for key in self.pcards.keys():\n",
    "            print(key)\n",
    "    def points(self):\n",
    "        d_total =0\n",
    "        for val in self.pcards.values():\n",
    "            d_total = d_total + val\n",
    "        print(d_total)"
   ]
  },
  {
   "cell_type": "code",
   "execution_count": 269,
   "metadata": {},
   "outputs": [],
   "source": [
    "class Gameplay():\n",
    "    def __init__(self):\n",
    "        Charlie = Player()\n",
    "        Enigma = Dealer()\n"
   ]
  },
  {
   "cell_type": "code",
   "execution_count": 270,
   "metadata": {},
   "outputs": [],
   "source": [
    "d = Deck()"
   ]
  },
  {
   "cell_type": "code",
   "execution_count": 271,
   "metadata": {},
   "outputs": [],
   "source": [
    "har = Player()"
   ]
  },
  {
   "cell_type": "code",
   "execution_count": 272,
   "metadata": {},
   "outputs": [
    {
     "name": "stdout",
     "output_type": "stream",
     "text": [
      "2 of Spade\n",
      "5 of Heart\n"
     ]
    }
   ],
   "source": [
    "har.show_cards()"
   ]
  },
  {
   "cell_type": "code",
   "execution_count": 273,
   "metadata": {},
   "outputs": [
    {
     "name": "stdout",
     "output_type": "stream",
     "text": [
      "7\n"
     ]
    }
   ],
   "source": [
    "har.points()"
   ]
  },
  {
   "cell_type": "code",
   "execution_count": 274,
   "metadata": {},
   "outputs": [
    {
     "name": "stdout",
     "output_type": "stream",
     "text": [
      "10 of Diamond\n"
     ]
    }
   ],
   "source": [
    "har.hit()"
   ]
  },
  {
   "cell_type": "code",
   "execution_count": 275,
   "metadata": {},
   "outputs": [
    {
     "name": "stdout",
     "output_type": "stream",
     "text": [
      "17\n"
     ]
    }
   ],
   "source": [
    "har.points()"
   ]
  },
  {
   "cell_type": "code",
   "execution_count": null,
   "metadata": {
    "collapsed": true
   },
   "outputs": [],
   "source": []
  }
 ],
 "metadata": {
  "kernelspec": {
   "display_name": "Python 3",
   "language": "python",
   "name": "python3"
  },
  "language_info": {
   "codemirror_mode": {
    "name": "ipython",
    "version": 3
   },
   "file_extension": ".py",
   "mimetype": "text/x-python",
   "name": "python",
   "nbconvert_exporter": "python",
   "pygments_lexer": "ipython3",
   "version": "3.6.1"
  }
 },
 "nbformat": 4,
 "nbformat_minor": 2
}
