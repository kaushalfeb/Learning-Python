{
 "cells": [
  {
   "cell_type": "code",
   "execution_count": 108,
   "metadata": {},
   "outputs": [],
   "source": [
    "import random\n",
    "\n",
    "class Deck():\n",
    "    def __init__(self):\n",
    "        self.cards = {\n",
    "            'King of Club':10,'Queen of Club':10,'Jack of Club':10,'Ace of Club':10,'2 of Club':2,'3 of Club':3,'4 of Club':4,'5 of Club':5,'6 of Club':6,'7 of Club':7,'8 of Club':8,'9 of Club':9,'10 of Club':10,\n",
    "            'King of Spade':10,'Queen of Spade':10,'Jack of Spade':10,'Ace of Spade':10,'2 of Spade':2,'3 of Spade':3,'4 of Spade':4,'5 of Spade':5,'6 of Spade':6,'7 of Spade':7,'8 of Spade':8,'9 of Spade':9,'10 of Spade':10,\n",
    "            'King of Diamond':10,'Queen of Diamond':10,'Jack of Diamond':10,'Ace of Diamond':10,'2 of Diamond':2,'3 of Diamond':3,'4 of Diamond':4,'5 of Diamond':5,'6 of Diamond':6,'7 of Diamond':7,'8 of Diamond':8,'9 of Diamond':9,'10 of Diamond':10,\n",
    "            'King of Heart':10,'Queen of Heart':10,'Jack of Heart':10,'Ace of Heart':10,'2 of Heart':2,'3 of Heart':3,'4 of Heart':4,'5 of Heart':5,'6 of Heart':6,'7 of Heart':7,'8 of Heart':8,'9 of Heart':9,'10 of Heart':10\n",
    "                     }\n",
    "        \n",
    "    def get_card(self):\n",
    "        name_of_cards = list(self.cards.keys())\n",
    "        opted_card = random.choice(name_of_cards)\n",
    "        \n",
    "        print(opted_card)"
   ]
  },
  {
   "cell_type": "code",
   "execution_count": 92,
   "metadata": {},
   "outputs": [],
   "source": [
    "class Player(Deck):\n",
    "    bankroll = 100\n",
    "    d = Deck()\n",
    "    \n",
    "    def __init__(self):\n",
    "        pcard1 = self.d.get_card()\n",
    "        pcard2 = self.d.get_card()\n",
    "        print(\"Player have _______ and _______\")\n",
    "        print(f\"You have ${self.bankroll} in your bankroll\")\n",
    "    def hit(self):\n",
    "        print( self.d.get_card())\n",
    "    def stay(self):\n",
    "        continue"
   ]
  },
  {
   "cell_type": "code",
   "execution_count": 84,
   "metadata": {},
   "outputs": [],
   "source": [
    "class Dealer(Deck):\n",
    "    d = Deck()\n",
    "    def __init__(self):\n",
    "        pcard1 = d.get_card()\n",
    "        pcard2 = d.get_card()\n",
    "        print(f\"Dealer have {pcard1} and ______ \")"
   ]
  },
  {
   "cell_type": "code",
   "execution_count": 83,
   "metadata": {},
   "outputs": [],
   "source": [
    "class Gameplay():\n",
    "    def __init__(self):\n",
    "        Charlie = Player()\n",
    "        "
   ]
  },
  {
   "cell_type": "code",
   "execution_count": 109,
   "metadata": {},
   "outputs": [
    {
     "name": "stdout",
     "output_type": "stream",
     "text": [
      "5 of Spade\n"
     ]
    }
   ],
   "source": [
    "dec = Deck()\n",
    "dec.get_card()"
   ]
  },
  {
   "cell_type": "code",
   "execution_count": null,
   "metadata": {
    "collapsed": true
   },
   "outputs": [],
   "source": []
  }
 ],
 "metadata": {
  "kernelspec": {
   "display_name": "Python 3",
   "language": "python",
   "name": "python3"
  },
  "language_info": {
   "codemirror_mode": {
    "name": "ipython",
    "version": 3
   },
   "file_extension": ".py",
   "mimetype": "text/x-python",
   "name": "python",
   "nbconvert_exporter": "python",
   "pygments_lexer": "ipython3",
   "version": "3.6.1"
  }
 },
 "nbformat": 4,
 "nbformat_minor": 2
}
