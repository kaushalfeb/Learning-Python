{
 "cells": [
  {
   "cell_type": "code",
   "execution_count": 13,
   "metadata": {
    "collapsed": true
   },
   "outputs": [],
   "source": [
    "def addition(num1,num2):\n",
    "    return num1+num2"
   ]
  },
  {
   "cell_type": "code",
   "execution_count": 22,
   "metadata": {},
   "outputs": [
    {
     "ename": "SyntaxError",
     "evalue": "invalid token (<ipython-input-22-a8d37ae074b6>, line 1)",
     "output_type": "error",
     "traceback": [
      "\u001b[1;36m  File \u001b[1;32m\"<ipython-input-22-a8d37ae074b6>\"\u001b[1;36m, line \u001b[1;32m1\u001b[0m\n\u001b[1;33m    addition(203,098) #SyntaxError\u001b[0m\n\u001b[1;37m                   ^\u001b[0m\n\u001b[1;31mSyntaxError\u001b[0m\u001b[1;31m:\u001b[0m invalid token\n"
     ]
    }
   ],
   "source": [
    "addition(203,098) #SyntaxError"
   ]
  },
  {
   "cell_type": "code",
   "execution_count": 23,
   "metadata": {},
   "outputs": [
    {
     "ename": "NameError",
     "evalue": "name 'additon' is not defined",
     "output_type": "error",
     "traceback": [
      "\u001b[1;31m---------------------------------------------------------------------------\u001b[0m",
      "\u001b[1;31mNameError\u001b[0m                                 Traceback (most recent call last)",
      "\u001b[1;32m<ipython-input-23-f3f8cf5fcb77>\u001b[0m in \u001b[0;36m<module>\u001b[1;34m()\u001b[0m\n\u001b[1;32m----> 1\u001b[1;33m \u001b[0madditon\u001b[0m\u001b[1;33m(\u001b[0m\u001b[1;36m12\u001b[0m\u001b[1;33m,\u001b[0m\u001b[1;34m\"12\"\u001b[0m\u001b[1;33m)\u001b[0m \u001b[1;31m#NameError\u001b[0m\u001b[1;33m\u001b[0m\u001b[0m\n\u001b[0m",
      "\u001b[1;31mNameError\u001b[0m: name 'additon' is not defined"
     ]
    }
   ],
   "source": [
    "additon(12,\"12\") #NameError"
   ]
  },
  {
   "cell_type": "code",
   "execution_count": 24,
   "metadata": {},
   "outputs": [
    {
     "ename": "TypeError",
     "evalue": "addition() missing 2 required positional arguments: 'num1' and 'num2'",
     "output_type": "error",
     "traceback": [
      "\u001b[1;31m---------------------------------------------------------------------------\u001b[0m",
      "\u001b[1;31mTypeError\u001b[0m                                 Traceback (most recent call last)",
      "\u001b[1;32m<ipython-input-24-9dc9a16b7d4f>\u001b[0m in \u001b[0;36m<module>\u001b[1;34m()\u001b[0m\n\u001b[1;32m----> 1\u001b[1;33m \u001b[0maddition\u001b[0m\u001b[1;33m(\u001b[0m\u001b[1;33m)\u001b[0m \u001b[1;31m#Type Error\u001b[0m\u001b[1;33m\u001b[0m\u001b[0m\n\u001b[0m",
      "\u001b[1;31mTypeError\u001b[0m: addition() missing 2 required positional arguments: 'num1' and 'num2'"
     ]
    }
   ],
   "source": [
    "addition() #Type Error"
   ]
  },
  {
   "cell_type": "code",
   "execution_count": 38,
   "metadata": {},
   "outputs": [
    {
     "data": {
      "text/plain": [
       "3"
      ]
     },
     "execution_count": 38,
     "metadata": {},
     "output_type": "execute_result"
    }
   ],
   "source": [
    "addition(1,2)"
   ]
  },
  {
   "cell_type": "code",
   "execution_count": 43,
   "metadata": {},
   "outputs": [
    {
     "name": "stdout",
     "output_type": "stream",
     "text": [
      "Enter number two:\t10\n"
     ]
    }
   ],
   "source": [
    "x = 100\n",
    "y = int(input('Enter number two:\\t'))"
   ]
  },
  {
   "cell_type": "code",
   "execution_count": 47,
   "metadata": {},
   "outputs": [
    {
     "name": "stdout",
     "output_type": "stream",
     "text": [
      "110\n",
      "NO EXCEPTION OCCURED WHATSOEVER\n",
      "End of code\n"
     ]
    }
   ],
   "source": [
    "try:\n",
    "    print(addition(x,y))\n",
    "except SyntaxError:\n",
    "    print(\"Syntax Error Occured\")\n",
    "except NameError:\n",
    "    print(\"Name Error Occured\")\n",
    "except TypeError:\n",
    "    print(\"Type Error Occured\")\n",
    "except:\n",
    "    print(\"All other type of errors\")\n",
    "else:\n",
    "    print(\"NO EXCEPTION OCCURED WHATSOEVER\")\n",
    "finally:\n",
    "    print(\"End of code\")\n"
   ]
  },
  {
   "cell_type": "markdown",
   "metadata": {},
   "source": [
    "### try:\n",
    "code which can produce errors while running is written under try block<br>\n",
    "\n",
    "### except:\n",
    "to target a specific type of exception except NAMEOFERROR: block is used<br>\n",
    "to target all remaining exception types nothing is passed along except block.<br>\n",
    "\n",
    "### else:\n",
    "If no error comes while running the try block then else: block is executed.<br>\n",
    "If any error comes else block is skipped.\n",
    "\n",
    "### finally:\n",
    "finally is a compulsory block which runs no matter an error occured or not.<br>\n",
    "helpful in closing files which were opened.<br>"
   ]
  },
  {
   "cell_type": "code",
   "execution_count": 3,
   "metadata": {
    "collapsed": true
   },
   "outputs": [],
   "source": [
    "def ask_for_int():\n",
    "    \n",
    "    while True:\n",
    "        try:\n",
    "            num = int(input(\"Please provide a number here:\"))\n",
    "        except:\n",
    "            print(\"Ooops you messed up!\")\n",
    "            continue\n",
    "        else:\n",
    "            print(f\"You entered {num}\")\n",
    "            break\n",
    "            \n",
    "        finally:\n",
    "            print(\"Well!\")"
   ]
  },
  {
   "cell_type": "code",
   "execution_count": 4,
   "metadata": {},
   "outputs": [
    {
     "name": "stdout",
     "output_type": "stream",
     "text": [
      "Please provide a number here:12\n",
      "You entered 12\n",
      "Well!\n"
     ]
    }
   ],
   "source": [
    "ask_for_int()"
   ]
  },
  {
   "cell_type": "code",
   "execution_count": null,
   "metadata": {
    "collapsed": true
   },
   "outputs": [],
   "source": []
  }
 ],
 "metadata": {
  "kernelspec": {
   "display_name": "Python 3",
   "language": "python",
   "name": "python3"
  },
  "language_info": {
   "codemirror_mode": {
    "name": "ipython",
    "version": 3
   },
   "file_extension": ".py",
   "mimetype": "text/x-python",
   "name": "python",
   "nbconvert_exporter": "python",
   "pygments_lexer": "ipython3",
   "version": "3.6.1"
  }
 },
 "nbformat": 4,
 "nbformat_minor": 2
}
