{
 "cells": [
  {
   "cell_type": "markdown",
   "metadata": {},
   "source": [
    "## Collections Module"
   ]
  },
  {
   "cell_type": "code",
   "execution_count": 3,
   "metadata": {},
   "outputs": [],
   "source": [
    "from collections import Counter"
   ]
  },
  {
   "cell_type": "code",
   "execution_count": 4,
   "metadata": {},
   "outputs": [],
   "source": [
    "l = [1,2,2,24,24,43,53,1,23,35]"
   ]
  },
  {
   "cell_type": "code",
   "execution_count": 5,
   "metadata": {},
   "outputs": [
    {
     "data": {
      "text/plain": [
       "Counter({1: 2, 2: 2, 24: 2, 43: 1, 53: 1, 23: 1, 35: 1})"
      ]
     },
     "execution_count": 5,
     "metadata": {},
     "output_type": "execute_result"
    }
   ],
   "source": [
    "Counter(l)"
   ]
  },
  {
   "cell_type": "code",
   "execution_count": 6,
   "metadata": {},
   "outputs": [],
   "source": [
    "s = 'Mynameiskaushalandishallcode'"
   ]
  },
  {
   "cell_type": "code",
   "execution_count": 7,
   "metadata": {},
   "outputs": [
    {
     "data": {
      "text/plain": [
       "Counter({'M': 1,\n",
       "         'y': 1,\n",
       "         'n': 2,\n",
       "         'a': 5,\n",
       "         'm': 1,\n",
       "         'e': 2,\n",
       "         'i': 2,\n",
       "         's': 3,\n",
       "         'k': 1,\n",
       "         'u': 1,\n",
       "         'h': 2,\n",
       "         'l': 3,\n",
       "         'd': 2,\n",
       "         'c': 1,\n",
       "         'o': 1})"
      ]
     },
     "execution_count": 7,
     "metadata": {},
     "output_type": "execute_result"
    }
   ],
   "source": [
    "Counter(s)"
   ]
  },
  {
   "cell_type": "code",
   "execution_count": 8,
   "metadata": {},
   "outputs": [],
   "source": [
    "sentence = \"How many time does each word show up.\""
   ]
  },
  {
   "cell_type": "code",
   "execution_count": 9,
   "metadata": {},
   "outputs": [
    {
     "data": {
      "text/plain": [
       "Counter({'How': 1,\n",
       "         'many': 1,\n",
       "         'time': 1,\n",
       "         'does': 1,\n",
       "         'each': 1,\n",
       "         'word': 1,\n",
       "         'show': 1,\n",
       "         'up.': 1})"
      ]
     },
     "execution_count": 9,
     "metadata": {},
     "output_type": "execute_result"
    }
   ],
   "source": [
    "Counter(sentence.split())"
   ]
  },
  {
   "cell_type": "code",
   "execution_count": 10,
   "metadata": {},
   "outputs": [],
   "source": [
    "para = 'The Planck constant, or Planck\\'s constant, denoted h {\\displaystyle h} h, is a physical constant that is the quantum of electromagnetic action, which relates the energy carried by a photon to its frequency. A photon\\'s energy is equal to its frequency multiplied by the Planck constant. The Planck constant is of fundamental importance in quantum mechanics, and in metrology it is the basis for the definition of the kilogram. The Planck constant is defined to have the exact value h = {\\displaystyle h=} h= 6.62607015×10−34  At the end of the 19th century, physicists were unable to explain why the observed spectrum of black body radiation, which is still considered to have been accurately measured, diverged significantly at higher frequencies from that predicted by existing theories. In 1900, Max Planck empirically derived a formula for the observed spectrum. He assumed that a hypothetical electrically charged oscillator in a cavity that contained black-body radiation could only change its energy in a minimal increment, E {\\displaystyle E} E, that was proportional to the frequency of its associated electromagnetic wave.[4] He was able to calculate the proportionality constant, h {\\displaystyle h} h, from the experimental measurements, and that constant is named in his honor. In 1905, the value E {\\displaystyle E} E was associated by Albert Einstein with a \"quantum\" or minimal element of the energy of the electromagnetic wave itself. The light quantum behaved in some respects as an electrically neutral particle, as opposed to an electromagnetic wave. It was eventually called a photon. Max Planck received the 1918 Nobel Prize in Physics \"in recognition of the services he rendered to the advancement of Physics by his discovery of energy quanta\". '"
   ]
  },
  {
   "cell_type": "code",
   "execution_count": 16,
   "metadata": {},
   "outputs": [],
   "source": [
    "word =Counter(para.split())"
   ]
  },
  {
   "cell_type": "code",
   "execution_count": 20,
   "metadata": {},
   "outputs": [
    {
     "data": {
      "text/plain": [
       "[('the', 20), ('of', 11), ('to', 9), ('is', 8), ('a', 8)]"
      ]
     },
     "execution_count": 20,
     "metadata": {},
     "output_type": "execute_result"
    }
   ],
   "source": [
    "word.most_common(5)"
   ]
  },
  {
   "cell_type": "code",
   "execution_count": 22,
   "metadata": {},
   "outputs": [
    {
     "data": {
      "text/plain": [
       "278"
      ]
     },
     "execution_count": 22,
     "metadata": {},
     "output_type": "execute_result"
    }
   ],
   "source": [
    "sum(word.values())"
   ]
  },
  {
   "cell_type": "markdown",
   "metadata": {},
   "source": [
    "### Most common methods"
   ]
  },
  {
   "cell_type": "code",
   "execution_count": 28,
   "metadata": {},
   "outputs": [],
   "source": [
    "num = 3\n",
    "word.most_common(num)                                          #shows most common words\n",
    "sum(word.values())                                             #total of all counts\n",
    "word.clear()                                                   #reset all counts\n",
    "list(word)                                                     #list unique elements\n",
    "set(word)                                                      #convert to a set\n",
    "dict(word)                                                     #convert to a dictionary\n",
    "word.items()                                                   #convert to a list of (element,count) pairs\n",
    "Counter(list(word.items()))                                   #convert from a list of (element,count) pairs\n",
    "word.most_common()[:-n-1:-1]                                   #n least common elements\n",
    "word += Counter()                                              #remove zero and negative counts"
   ]
  },
  {
   "cell_type": "code",
   "execution_count": null,
   "metadata": {},
   "outputs": [],
   "source": []
  }
 ],
 "metadata": {
  "kernelspec": {
   "display_name": "Python 3",
   "language": "python",
   "name": "python3"
  },
  "language_info": {
   "codemirror_mode": {
    "name": "ipython",
    "version": 3
   },
   "file_extension": ".py",
   "mimetype": "text/x-python",
   "name": "python",
   "nbconvert_exporter": "python",
   "pygments_lexer": "ipython3",
   "version": "3.7.4"
  }
 },
 "nbformat": 4,
 "nbformat_minor": 2
}
