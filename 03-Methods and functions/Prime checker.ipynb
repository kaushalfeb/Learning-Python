{
 "cells": [
  {
   "cell_type": "code",
   "execution_count": 56,
   "metadata": {
    "collapsed": true
   },
   "outputs": [],
   "source": [
    "def primer(alpha):\n",
    "    flag= False\n",
    "    temp = 2\n",
    "    while temp<alpha:\n",
    "        if alpha%temp!=0:\n",
    "            temp +=1\n",
    "            flag = True\n",
    "        else:\n",
    "            flag = False\n",
    "            break\n",
    "##    \n",
    "#    print(alpha)\n",
    "#    print(temp)\n",
    "#    print(flag)\n",
    "#    print()\n",
    "##    \n",
    "#    if flag == False:\n",
    "#        print('Not a prime')\n",
    "#    else:\n",
    "#        print('Prime')\n",
    "##\n",
    "    return flag"
   ]
  },
  {
   "cell_type": "code",
   "execution_count": 57,
   "metadata": {},
   "outputs": [
    {
     "data": {
      "text/plain": [
       "False"
      ]
     },
     "execution_count": 57,
     "metadata": {},
     "output_type": "execute_result"
    }
   ],
   "source": [
    "primer(8)"
   ]
  },
  {
   "cell_type": "code",
   "execution_count": 119,
   "metadata": {
    "collapsed": true
   },
   "outputs": [],
   "source": [
    "def core(num):\n",
    "    counter = 1\n",
    "    for x in range(3,num+1):\n",
    "        if primer(x) == True:\n",
    "            counter +=1\n",
    "    print(counter)"
   ]
  },
  {
   "cell_type": "code",
   "execution_count": 122,
   "metadata": {},
   "outputs": [
    {
     "name": "stdout",
     "output_type": "stream",
     "text": [
      "15\n"
     ]
    }
   ],
   "source": [
    "core(50)"
   ]
  },
  {
   "cell_type": "code",
   "execution_count": 1,
   "metadata": {
    "collapsed": true
   },
   "outputs": [],
   "source": [
    "def counting_primes(nums):\n",
    "    counter = 0\n",
    "    for x in range(3,nums+1):\n",
    "        flag= False\n",
    "        temp = 2\n",
    "        while temp<x:\n",
    "            if x%temp!=0:\n",
    "                temp +=1\n",
    "                flag = True\n",
    "            else:\n",
    "                flag = False\n",
    "                break\n",
    "            #Counting primes\n",
    "            if flag == True:\n",
    "                print(x)\n",
    "                counter +=1\n",
    "    print()\n",
    "    print(counter)"
   ]
  },
  {
   "cell_type": "code",
   "execution_count": 3,
   "metadata": {
    "scrolled": true
   },
   "outputs": [
    {
     "name": "stdout",
     "output_type": "stream",
     "text": [
      "3\n",
      "5\n",
      "5\n",
      "5\n",
      "7\n",
      "7\n",
      "7\n",
      "7\n",
      "7\n",
      "9\n",
      "\n",
      "10\n"
     ]
    }
   ],
   "source": [
    "counting_primes(10)"
   ]
  },
  {
   "cell_type": "code",
   "execution_count": 4,
   "metadata": {
    "collapsed": true
   },
   "outputs": [],
   "source": [
    "def primer(alpha):\n",
    "    flag= False\n",
    "    temp = 2\n",
    "    while temp<alpha:\n",
    "        if alpha%temp!=0:\n",
    "            temp +=1\n",
    "            flag = True\n",
    "        else:\n",
    "            flag = False\n",
    "            break\n",
    "    return flag\n",
    "\n",
    "def count_prime(num):\n",
    "    counter = 1\n",
    "    for x in range(3,num+1):\n",
    "        if primer(x) == True:\n",
    "            counter +=1\n",
    "    print(counter)"
   ]
  },
  {
   "cell_type": "code",
   "execution_count": 5,
   "metadata": {},
   "outputs": [
    {
     "name": "stdout",
     "output_type": "stream",
     "text": [
      "25\n"
     ]
    }
   ],
   "source": [
    "count_prime(100)"
   ]
  },
  {
   "cell_type": "code",
   "execution_count": null,
   "metadata": {
    "collapsed": true
   },
   "outputs": [],
   "source": []
  }
 ],
 "metadata": {
  "kernelspec": {
   "display_name": "Python 3",
   "language": "python",
   "name": "python3"
  },
  "language_info": {
   "codemirror_mode": {
    "name": "ipython",
    "version": 3
   },
   "file_extension": ".py",
   "mimetype": "text/x-python",
   "name": "python",
   "nbconvert_exporter": "python",
   "pygments_lexer": "ipython3",
   "version": "3.6.1"
  }
 },
 "nbformat": 4,
 "nbformat_minor": 2
}
