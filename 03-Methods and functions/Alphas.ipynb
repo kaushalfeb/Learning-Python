{
 "cells": [
  {
   "cell_type": "code",
   "execution_count": 55,
   "metadata": {},
   "outputs": [],
   "source": [
    "vard = {'a':'  *  \\n*   *\\n*****\\n*   *\\n*   *','b':'****\\n*   *\\n****\\n*   *\\n****','c':' ****\\n*\\n*\\n*\\n ****'} "
   ]
  },
  {
   "cell_type": "code",
   "execution_count": 56,
   "metadata": {},
   "outputs": [
    {
     "name": "stdout",
     "output_type": "stream",
     "text": [
      " ****\n",
      "*\n",
      "*\n",
      "*\n",
      " ****\n"
     ]
    }
   ],
   "source": [
    "print(vard['c'])"
   ]
  },
  {
   "cell_type": "code",
   "execution_count": 69,
   "metadata": {},
   "outputs": [],
   "source": [
    "def oxford(letter):\n",
    "    vard = {'a':'  *  \\n*   *\\n*****\\n*   *\\n*   *',\n",
    "            'b':'****\\n*   *\\n****\\n*   *\\n****',\n",
    "            'c':' ****\\n*\\n*\\n*\\n ****',\n",
    "            'd':'***\\n*   * \\n*    *\\n*   * \\n***',\n",
    "            'e':'*****\\n*\\n*****\\n*\\n*****'\n",
    "           } \n",
    "    print(vard[letter])"
   ]
  },
  {
   "cell_type": "code",
   "execution_count": 71,
   "metadata": {},
   "outputs": [
    {
     "name": "stdout",
     "output_type": "stream",
     "text": [
      "*****\n",
      "*\n",
      "*****\n",
      "*\n",
      "*****\n"
     ]
    }
   ],
   "source": [
    "oxford('e')"
   ]
  },
  {
   "cell_type": "code",
   "execution_count": null,
   "metadata": {
    "collapsed": true
   },
   "outputs": [],
   "source": []
  }
 ],
 "metadata": {
  "kernelspec": {
   "display_name": "Python 3",
   "language": "python",
   "name": "python3"
  },
  "language_info": {
   "codemirror_mode": {
    "name": "ipython",
    "version": 3
   },
   "file_extension": ".py",
   "mimetype": "text/x-python",
   "name": "python",
   "nbconvert_exporter": "python",
   "pygments_lexer": "ipython3",
   "version": "3.6.1"
  }
 },
 "nbformat": 4,
 "nbformat_minor": 2
}
